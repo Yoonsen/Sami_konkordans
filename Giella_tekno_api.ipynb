{
 "cells": [
  {
   "cell_type": "code",
   "execution_count": 1,
   "metadata": {},
   "outputs": [],
   "source": [
    "import dhlab.nbtext as nb"
   ]
  },
  {
   "cell_type": "code",
   "execution_count": 2,
   "metadata": {},
   "outputs": [],
   "source": [
    "import requests"
   ]
  },
  {
   "cell_type": "code",
   "execution_count": 25,
   "metadata": {},
   "outputs": [],
   "source": [
    "def matrix_cosine(merge_coll, top=200):\n",
    "    from scipy.spatial.distance import cosine\n",
    "\n",
    "    stack = []\n",
    "    res = dict()\n",
    "    for i in merge_coll:\n",
    "        res[i] = dict()\n",
    "        for j in merge_coll:\n",
    "            res[i][j] = 1 - cosine(merge_coll[i][:top].fillna(0), merge_coll[j][:top].fillna(0))  \n",
    "\n",
    "    return res"
   ]
  },
  {
   "cell_type": "code",
   "execution_count": 3,
   "metadata": {},
   "outputs": [],
   "source": [
    "adress = \"\"\"http://gtweb.uit.no/cgi-bin/smi/smi.cgi?text=leat&pos=V&mode=full&action=paradigm&lang=sme&plang=sme&json=true\"\"\""
   ]
  },
  {
   "cell_type": "code",
   "execution_count": 19,
   "metadata": {},
   "outputs": [],
   "source": [
    "def sami_word(word='ja', pos='V', mode='full', action = 'paradigm', lang='sme'):\n",
    "    params = {\n",
    "        'text': word,\n",
    "        'pos' : pos,\n",
    "        'mode' : mode,\n",
    "        'action' : action,\n",
    "        'lang' : lang,\n",
    "        'json' : 'true'\n",
    "    }\n",
    "    query_res = requests.get(\"http://gtweb.uit.no/cgi-bin/smi/smi.cgi\" ,params=params)\n",
    "    try:\n",
    "        res = query_res.json()\n",
    "    except:\n",
    "        res = {}\n",
    "    return res"
   ]
  },
  {
   "cell_type": "code",
   "execution_count": 23,
   "metadata": {},
   "outputs": [
    {
     "data": {
      "text/plain": [
       "{}"
      ]
     },
     "execution_count": 23,
     "metadata": {},
     "output_type": "execute_result"
    }
   ],
   "source": [
    "sami_word(word='lat', pos='A')"
   ]
  }
 ],
 "metadata": {
  "kernelspec": {
   "display_name": "Python 3",
   "language": "python",
   "name": "python3"
  },
  "language_info": {
   "codemirror_mode": {
    "name": "ipython",
    "version": 3
   },
   "file_extension": ".py",
   "mimetype": "text/x-python",
   "name": "python",
   "nbconvert_exporter": "python",
   "pygments_lexer": "ipython3",
   "version": "3.7.3"
  }
 },
 "nbformat": 4,
 "nbformat_minor": 2
}
