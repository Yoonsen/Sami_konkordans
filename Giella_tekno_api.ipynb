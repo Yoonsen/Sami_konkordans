{
 "cells": [
  {
   "cell_type": "code",
   "execution_count": 1,
   "metadata": {},
   "outputs": [],
   "source": [
    "import dhlab.nbtext as nb"
   ]
  },
  {
   "cell_type": "code",
   "execution_count": 2,
   "metadata": {},
   "outputs": [],
   "source": [
    "import requests"
   ]
  },
  {
   "cell_type": "code",
   "execution_count": 3,
   "metadata": {},
   "outputs": [],
   "source": [
    "def matrix_cosine(merge_coll, top=200):\n",
    "    from scipy.spatial.distance import cosine\n",
    "\n",
    "    stack = []\n",
    "    res = dict()\n",
    "    for i in merge_coll:\n",
    "        res[i] = dict()\n",
    "        for j in merge_coll:\n",
    "            res[i][j] = 1 - cosine(merge_coll[i][:top].fillna(0), merge_coll[j][:top].fillna(0))  \n",
    "\n",
    "    return res"
   ]
  },
  {
   "cell_type": "code",
   "execution_count": 4,
   "metadata": {},
   "outputs": [],
   "source": [
    "adress = \"\"\"http://gtweb.uit.no/cgi-bin/smi/smi.cgi?text=leat&pos=V&mode=full&action=paradigm&lang=sme&plang=sme&json=true\"\"\""
   ]
  },
  {
   "cell_type": "code",
   "execution_count": 5,
   "metadata": {},
   "outputs": [],
   "source": [
    "def sami_word(word='ja', pos='V', mode='full', action = 'paradigm', lang='sme'):\n",
    "    params = {\n",
    "        'text': word,\n",
    "        'pos' : pos,\n",
    "        'mode' : mode,\n",
    "        'action' : action,\n",
    "        'lang' : lang,\n",
    "        'json' : 'true'\n",
    "    }\n",
    "    query_res = requests.get(\"http://gtweb.uit.no/cgi-bin/smi/smi.cgi\" ,params=params)\n",
    "    try:\n",
    "        res = query_res.json()\n",
    "    except:\n",
    "        res = {}\n",
    "    return res"
   ]
  },
  {
   "cell_type": "code",
   "execution_count": 13,
   "metadata": {},
   "outputs": [
    {
     "data": {
      "text/plain": [
       "{'analyses': {'V+Inf': ['leat', 'leahkit'],\n",
       "  'V+Ind+Prs+Sg1': ['lean'],\n",
       "  'V+Ind+Prs+Sg2': ['leat'],\n",
       "  'V+Ind+Prs+Sg3': ['lea'],\n",
       "  'V+Ind+Prs+Du1': ['letne', 'ledne'],\n",
       "  'V+Ind+Prs+Du2': ['leahppi'],\n",
       "  'V+Ind+Prs+Du3': ['leaba'],\n",
       "  'V+Ind+Prs+Pl1': ['leat'],\n",
       "  'V+Ind+Prs+Pl2': ['lehpet'],\n",
       "  'V+Ind+Prs+Pl3': ['leat'],\n",
       "  'V+Ind+Prs+ConNeg': ['leat'],\n",
       "  'V+Ind+Prt+Sg1': ['ledjen'],\n",
       "  'V+Ind+Prt+Sg2': ['ledjet'],\n",
       "  'V+Ind+Prt+Sg3': ['lei', 'leai'],\n",
       "  'V+Ind+Prt+Du1': ['leimme'],\n",
       "  'V+Ind+Prt+Du2': ['leidde'],\n",
       "  'V+Ind+Prt+Du3': ['leaigga', 'leigga'],\n",
       "  'V+Ind+Prt+Pl1': ['leimmet'],\n",
       "  'V+Ind+Prt+Pl2': ['leiddet'],\n",
       "  'V+Ind+Prt+Pl3': ['ledje'],\n",
       "  'V+Ind+Prt+ConNeg': ['lean'],\n",
       "  'V+Cond+Prs+Sg1': ['livččen'],\n",
       "  'V+Cond+Prs+Sg2': ['livččet'],\n",
       "  'V+Cond+Prs+Sg3': ['livččii'],\n",
       "  'V+Cond+Prs+Du1': ['livččiime'],\n",
       "  'V+Cond+Prs+Du2': ['livččiide'],\n",
       "  'V+Cond+Prs+Du3': ['livččiiga'],\n",
       "  'V+Cond+Prs+Pl1': ['livččiimet'],\n",
       "  'V+Cond+Prs+Pl2': ['livččiidet'],\n",
       "  'V+Cond+Prs+Pl3': ['livčče'],\n",
       "  'V+Cond+Prs+ConNeg': ['livčče'],\n",
       "  'V+Imprt+Sg1': ['lehkon'],\n",
       "  'V+Imprt+Sg2': ['leage'],\n",
       "  'V+Imprt+Sg3': ['lehkos'],\n",
       "  'V+Imprt+Du1': ['leahkku', 'leadnu'],\n",
       "  'V+Imprt+Du2': ['leahkki'],\n",
       "  'V+Imprt+Du3': ['lehkoska'],\n",
       "  'V+Imprt+Pl1': ['lehkot', 'leatnot'],\n",
       "  'V+Imprt+Pl2': ['lehket'],\n",
       "  'V+Imprt+Pl3': ['lehkoset'],\n",
       "  'V+Imprt+ConNeg': ['leage'],\n",
       "  'V+Pot+Prs+Sg1': ['leaččan'],\n",
       "  'V+Pot+Prs+Sg2': ['leaččat'],\n",
       "  'V+Pot+Prs+Sg3': ['leš', 'leaš', 'leažžá'],\n",
       "  'V+Pot+Prs+Du1': ['ležže'],\n",
       "  'V+Pot+Prs+Du2': ['leažžabeahtti'],\n",
       "  'V+Pot+Prs+Du3': ['leažžaba'],\n",
       "  'V+Pot+Prs+Pl1': ['leažžat'],\n",
       "  'V+Pot+Prs+Pl2': ['leažžabehtet'],\n",
       "  'V+Pot+Prs+Pl3': ['ležžet'],\n",
       "  'V+Pot+Prs+ConNeg': ['leš', 'leaš', 'leačča'],\n",
       "  'V+Pot+Prt+Sg1': ['ležžen'],\n",
       "  'V+Pot+Prt+Sg2': ['ležžet'],\n",
       "  'V+Pot+Prt+Sg3': ['leaččai'],\n",
       "  'V+Pot+Prt+Du1': ['leaččaime'],\n",
       "  'V+Pot+Prt+Du2': ['leaččaide'],\n",
       "  'V+Pot+Prt+Du3': ['leaččaiga'],\n",
       "  'V+Pot+Prt+Pl1': ['leaččaimet'],\n",
       "  'V+Pot+Prt+Pl2': ['leaččaidet'],\n",
       "  'V+Pot+Prt+Pl3': ['ležže'],\n",
       "  'V+PrfPrc': ['leamaš', 'leamašan'],\n",
       "  'V+PrsPrc': ['leahkki'],\n",
       "  'V+Actio+Loc': ['leames'],\n",
       "  'V+Actio+Ess': ['leamen', 'leame', 'leahkime']}}"
      ]
     },
     "execution_count": 13,
     "metadata": {},
     "output_type": "execute_result"
    }
   ],
   "source": [
    "sami_word(word='leat', pos='V')"
   ]
  },
  {
   "cell_type": "code",
   "execution_count": null,
   "metadata": {},
   "outputs": [],
   "source": []
  }
 ],
 "metadata": {
  "kernelspec": {
   "display_name": "Python 3",
   "language": "python",
   "name": "python3"
  },
  "language_info": {
   "codemirror_mode": {
    "name": "ipython",
    "version": 3
   },
   "file_extension": ".py",
   "mimetype": "text/x-python",
   "name": "python",
   "nbconvert_exporter": "python",
   "pygments_lexer": "ipython3",
   "version": "3.7.3"
  }
 },
 "nbformat": 4,
 "nbformat_minor": 2
}
